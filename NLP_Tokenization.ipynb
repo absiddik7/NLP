{
  "nbformat": 4,
  "nbformat_minor": 0,
  "metadata": {
    "colab": {
      "provenance": [],
      "collapsed_sections": [],
      "authorship_tag": "ABX9TyMGcKc/a4cAL8eWR8XW2QF2",
      "include_colab_link": true
    },
    "kernelspec": {
      "name": "python3",
      "display_name": "Python 3"
    },
    "language_info": {
      "name": "python"
    }
  },
  "cells": [
    {
      "cell_type": "markdown",
      "metadata": {
        "id": "view-in-github",
        "colab_type": "text"
      },
      "source": [
        "<a href=\"https://colab.research.google.com/github/absiddik7/NLP/blob/main/NLP_Tokenization.ipynb\" target=\"_parent\"><img src=\"https://colab.research.google.com/assets/colab-badge.svg\" alt=\"Open In Colab\"/></a>"
      ]
    },
    {
      "cell_type": "markdown",
      "source": [
        "##**Tokenization**"
      ],
      "metadata": {
        "id": "MR50iI5l4FvE"
      }
    },
    {
      "cell_type": "code",
      "source": [
        "import numpy as np\n"
      ],
      "metadata": {
        "id": "Yjc2RY3b8hgg"
      },
      "execution_count": 14,
      "outputs": []
    },
    {
      "cell_type": "code",
      "execution_count": null,
      "metadata": {
        "id": "DFyq6nNpnbNq"
      },
      "outputs": [],
      "source": [
        "import nltk #nltk: Natural Language Toolkit\n",
        "nltk.download('all') # download all nltk libraries"
      ]
    },
    {
      "cell_type": "code",
      "source": [
        "paragraph = \"\"\"There are many variations of passages of Lorem Ipsum available, \n",
        "but the majority have suffered alteration in some form, by injected humour, or randomised words which don't look \n",
        "even slightly believable. If you are going to use a passage of Lorem Ipsum, you need to be sure there isn't anything \n",
        "embarrassing hidden in the middle of text. All the Lorem Ipsum generators on the Internet tend to repeat predefined \n",
        "chunks as necessary, making this the first true generator on the Internet. It uses a dictionary of over 200 Latin \n",
        "words, combined with a handful of model sentence structures, to generate Lorem Ipsum which looks reasonable. The \n",
        "generated Lorem Ipsum is therefore always free from repetition, injected humour, or non-characteristic words etc.\n",
        "\"\"\""
      ],
      "metadata": {
        "id": "5Oa-saTK4keB"
      },
      "execution_count": 4,
      "outputs": []
    },
    {
      "cell_type": "code",
      "source": [
        "paragraph"
      ],
      "metadata": {
        "colab": {
          "base_uri": "https://localhost:8080/",
          "height": 139
        },
        "id": "QRhYmrK37QNo",
        "outputId": "b8aba0bc-d2a7-4d0b-b23c-e9b213391bd1"
      },
      "execution_count": 5,
      "outputs": [
        {
          "output_type": "execute_result",
          "data": {
            "text/plain": [
              "\"There are many variations of passages of Lorem Ipsum available, \\nbut the majority have suffered alteration in some form, by injected humour, or randomised words which don't look \\neven slightly believable. If you are going to use a passage of Lorem Ipsum, you need to be sure there isn't anything \\nembarrassing hidden in the middle of text. All the Lorem Ipsum generators on the Internet tend to repeat predefined \\nchunks as necessary, making this the first true generator on the Internet. It uses a dictionary of over 200 Latin \\nwords, combined with a handful of model sentence structures, to generate Lorem Ipsum which looks reasonable. The \\ngenerated Lorem Ipsum is therefore always free from repetition, injected humour, or non-characteristic words etc.\\n\""
            ],
            "application/vnd.google.colaboratory.intrinsic+json": {
              "type": "string"
            }
          },
          "metadata": {},
          "execution_count": 5
        }
      ]
    },
    {
      "cell_type": "code",
      "source": [
        "sentence = nltk.sent_tokenize(paragraph)\n",
        "sentence"
      ],
      "metadata": {
        "id": "tkdNtlFu7SG_"
      },
      "execution_count": null,
      "outputs": []
    },
    {
      "cell_type": "code",
      "source": [
        "words = nltk.word_tokenize(paragraph)\n",
        "print(words)"
      ],
      "metadata": {
        "colab": {
          "base_uri": "https://localhost:8080/"
        },
        "id": "wRlcVyyK8GFJ",
        "outputId": "f1156455-11a0-4646-bc76-9fae028d91e2"
      },
      "execution_count": 12,
      "outputs": [
        {
          "output_type": "stream",
          "name": "stdout",
          "text": [
            "['There', 'are', 'many', 'variations', 'of', 'passages', 'of', 'Lorem', 'Ipsum', 'available', ',', 'but', 'the', 'majority', 'have', 'suffered', 'alteration', 'in', 'some', 'form', ',', 'by', 'injected', 'humour', ',', 'or', 'randomised', 'words', 'which', 'do', \"n't\", 'look', 'even', 'slightly', 'believable', '.', 'If', 'you', 'are', 'going', 'to', 'use', 'a', 'passage', 'of', 'Lorem', 'Ipsum', ',', 'you', 'need', 'to', 'be', 'sure', 'there', 'is', \"n't\", 'anything', 'embarrassing', 'hidden', 'in', 'the', 'middle', 'of', 'text', '.', 'All', 'the', 'Lorem', 'Ipsum', 'generators', 'on', 'the', 'Internet', 'tend', 'to', 'repeat', 'predefined', 'chunks', 'as', 'necessary', ',', 'making', 'this', 'the', 'first', 'true', 'generator', 'on', 'the', 'Internet', '.', 'It', 'uses', 'a', 'dictionary', 'of', 'over', '200', 'Latin', 'words', ',', 'combined', 'with', 'a', 'handful', 'of', 'model', 'sentence', 'structures', ',', 'to', 'generate', 'Lorem', 'Ipsum', 'which', 'looks', 'reasonable', '.', 'The', 'generated', 'Lorem', 'Ipsum', 'is', 'therefore', 'always', 'free', 'from', 'repetition', ',', 'injected', 'humour', ',', 'or', 'non-characteristic', 'words', 'etc', '.']\n"
          ]
        }
      ]
    },
    {
      "cell_type": "code",
      "source": [
        "words = np.unique(words)"
      ],
      "metadata": {
        "id": "AEOeUK1M7cIN"
      },
      "execution_count": 16,
      "outputs": []
    },
    {
      "cell_type": "code",
      "source": [
        "words"
      ],
      "metadata": {
        "colab": {
          "base_uri": "https://localhost:8080/"
        },
        "id": "N2c9s3Rm76yu",
        "outputId": "aea8741e-e0fd-48ee-fa4b-1ab8664b2369"
      },
      "execution_count": 17,
      "outputs": [
        {
          "output_type": "execute_result",
          "data": {
            "text/plain": [
              "array([',', '.', '200', 'All', 'If', 'Internet', 'Ipsum', 'It', 'Latin',\n",
              "       'Lorem', 'The', 'There', 'a', 'alteration', 'always', 'anything',\n",
              "       'are', 'as', 'available', 'be', 'believable', 'but', 'by',\n",
              "       'chunks', 'combined', 'dictionary', 'do', 'embarrassing', 'etc',\n",
              "       'even', 'first', 'form', 'free', 'from', 'generate', 'generated',\n",
              "       'generator', 'generators', 'going', 'handful', 'have', 'hidden',\n",
              "       'humour', 'in', 'injected', 'is', 'look', 'looks', 'majority',\n",
              "       'making', 'many', 'middle', 'model', \"n't\", 'necessary', 'need',\n",
              "       'non-characteristic', 'of', 'on', 'or', 'over', 'passage',\n",
              "       'passages', 'predefined', 'randomised', 'reasonable', 'repeat',\n",
              "       'repetition', 'sentence', 'slightly', 'some', 'structures',\n",
              "       'suffered', 'sure', 'tend', 'text', 'the', 'there', 'therefore',\n",
              "       'this', 'to', 'true', 'use', 'uses', 'variations', 'which', 'with',\n",
              "       'words', 'you'], dtype='<U18')"
            ]
          },
          "metadata": {},
          "execution_count": 17
        }
      ]
    },
    {
      "cell_type": "code",
      "source": [
        "len(words) # no of unique words"
      ],
      "metadata": {
        "colab": {
          "base_uri": "https://localhost:8080/"
        },
        "id": "IHslCfYK8qQB",
        "outputId": "2ed10b9d-d265-43ad-a5ea-f4929472b56e"
      },
      "execution_count": 18,
      "outputs": [
        {
          "output_type": "execute_result",
          "data": {
            "text/plain": [
              "89"
            ]
          },
          "metadata": {},
          "execution_count": 18
        }
      ]
    },
    {
      "cell_type": "code",
      "source": [
        "# use Spacy library"
      ],
      "metadata": {
        "id": "NNgNe9Ei82wI"
      },
      "execution_count": null,
      "outputs": []
    }
  ]
}